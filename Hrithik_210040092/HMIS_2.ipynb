{
  "nbformat": 4,
  "nbformat_minor": 0,
  "metadata": {
    "colab": {
      "provenance": []
    },
    "kernelspec": {
      "name": "python3",
      "display_name": "Python 3"
    },
    "language_info": {
      "name": "python"
    }
  },
  "cells": [
    {
      "cell_type": "code",
      "execution_count": null,
      "metadata": {
        "id": "BrLBt9U83r-l"
      },
      "outputs": [],
      "source": [
        "import pandas as pd\n",
        "import numpy as np\n",
        "import matplotlib.pyplot as plt\n",
        "import seaborn as sns\n",
        "#to ignore warnings\n",
        "import warnings\n",
        "warnings.filterwarnings('ignore')"
      ]
    },
    {
      "cell_type": "code",
      "source": [
        "df=pd.read_csv('/content/interested_data_NDAP_REPORT_7067.csv')"
      ],
      "metadata": {
        "id": "EMaZcUTS31AV"
      },
      "execution_count": null,
      "outputs": []
    },
    {
      "cell_type": "markdown",
      "source": [
        "# **NULL VALUES**"
      ],
      "metadata": {
        "id": "b29Lpl8j67sJ"
      }
    },
    {
      "cell_type": "code",
      "source": [
        "for columns in df.columns:\n",
        "  print(str(columns) + \"------>\" + str(df[columns].isnull().sum()))"
      ],
      "metadata": {
        "colab": {
          "base_uri": "https://localhost:8080/"
        },
        "id": "W9xOdwRq4dkO",
        "outputId": "02ecc63e-fce6-4f37-b613-815f0d50e79f"
      },
      "execution_count": null,
      "outputs": [
        {
          "output_type": "stream",
          "name": "stdout",
          "text": [
            "Rowid------>0\n",
            "Country------>0\n",
            "State lgd code------>0\n",
            "State------>0\n",
            "District lgd code------>0\n",
            "District------>0\n",
            "Yearcode------>0\n",
            "Year------>0\n",
            "Registrations for  ante natal care ( anc ) in the first trimester (to total anc registrations) (%)------>90\n",
            "Janani suraksha yojana ( jsy ) registrations( to total anc registrations) (%)------>90\n",
            "Home deliveries------>109\n",
            "Home deliveries attended by doctor or nurse or auxiliary nurse midwife ( anm )s trained as sba------>140\n",
            "Home deliveries attended by traditional birth attendants ( tba ) or dai non-trained as skill birth attendants ( sba )------>115\n",
            "Home deliveries attended by skilled birth attendants ( sba ) (to total reported home deliveries) (%)------>169\n",
            "Janani suraksha yojana ( jsy ) incentives paid for home deliveries------>285\n",
            " janani suraksha yojana ( jsy ) incentives paid for home deliveries (to total reported home deliveries) (%)------>169\n",
            "Deliveries conducted at public institutions------>88\n",
            "Institutional deliveries------>88\n",
            "Institutional deliveries (to total anc registrations) (%)------>90\n",
            "Total deliveries recorded------>88\n",
            "Institutional deliveries (to total reported deliveries) (%)------>89\n",
            "Safe deliveries (to total reported deliveries) (%)------>89\n",
            "Home deliveries (to total reported deliveries) (%)------>89\n",
            "Caesarean (c-section) deliveries conducted at public facilities------>119\n",
            "Caesarean (c-section) deliveries conducted at private facilities------>1254\n",
            "C-section deliveries to reported institutional deliveries (%)------>89\n",
            "C-section deliveries conducted at public facilities to reported institutional deliveries (%)------>89\n",
            "C-section deliveries conducted at private facilities (to reported institutional deliveries) (%)------>1224\n",
            "Deliveries conducted at public facilities (to reported institutional deliveries) (%)------>89\n",
            "Mothers who were paid janani suraksha yojana ( jsy ) incentives for delivery at public institution (to total public deliveries) (%)------>89\n",
            "Accredited social health activist ( asha ) workers who were paid janani suraksha yojana ( jsy ) incentives for delivery at public institution (to total public deliveries) (%)------>89\n",
            "Deliveries conducted at private institutions (to reported institutional deliveries) (%)------>89\n",
            "Reported live births------>88\n",
            "Total reported live births (to total reported deliveries) (%)------>89\n",
            "Reported still births------>91\n",
            "Reported live births (to reported births) (%)------>89\n",
            "Newborns weighed at birth------>88\n",
            "Newborns weighed at birth (to reported live births) (%)------>89\n",
            "Newborns having weight less than 2.5 kg------>88\n",
            "Newborns having weight less than 2.5 kg (to newborns weighed at birth) (%)------>90\n",
            "New borns breastfed within 1 hour------>94\n",
            "New borns breastfed within 1 hour (to total live births) (%)------>89\n",
            "New borns visited within 24 hrs of being delivered at home------>123\n",
            "Newborns visited within 24 hours of being delivered at home (to total reported home deliveries) (%)------>169\n",
            "Sex ratio at birth------>0\n",
            "Complicated pregnancies treated with iv antihypertensive or magsulph injection (%)------>208\n",
            "Complicated pregnancies treated with iv antihypertensive/magsulph injection (%)------>159\n",
            "Post natal care ( pnc ) maternal complicates (to total deliveries) (%)------>89\n",
            "Abortions reported------>112\n",
            "Medical termination of pregnancies ( mtps ) at public institutions------>130\n",
            "Medical termination of pregnancies conducted at public institutions (to total abortions) (%)------>132\n",
            "Medical termination of pregnancies ( mtps ) up to 12 weeks of pregnancy (to total mtps conducted at public institutions) (%)------>321\n",
            "Medical termination of pregnancies ( mtps ) more than 12 weeks of pregnancy (to total mtps conducted at public institutions) (%)------>321\n",
            "Medical termination of pregnancies ( mtps ) conducted at public institutions (to total mtps (private + public)) (%)------>296\n",
            "Mtps conducted at private institutions (to total mtps (private + public)) (%)------>296\n",
            "Total medical termination of pregnancies ( mpt ) conducted at public institutions (to total ante natal care registrations) (%)------>90\n",
            "Wet mount tests conducted (to new rti or sti in females for which treatment was initiated) (%)------>129\n",
            "Vasectomies conducted in public and private institutions------>131\n",
            "Tubectomies conducted in public and private institutions------>92\n",
            "Sterilisation conducted------>92\n",
            "Male sterilization (to total sterilisation) (%)------>183\n",
            "Female sterilisations (to total sterilisation) (%)------>183\n",
            "Sterilisation conducted at primary health centres ( phc )------>245\n",
            "Sterilisation conducted at community health centres ( chc )------>375\n",
            "Sterilisation conducted at sub-district hospital ( sdh )or district hospital ( dh )------>200\n",
            "Sterilisations conducted at other public institutions------>4016\n",
            "Sterilisation conducted at private institutions------>1834\n",
            "Sterilisation conducted at primary health centres ( phc )(to total sterilisation) (%)------>183\n",
            "Sterilisation conducted at community health centres ( chc ) (to total sterilisation) (%)------>183\n",
            "Sterilisation conducted at sub-district hospital( sdh ) or district hospital (dh ) (to total sterilisation) (%)------>183\n",
            "Sterilisations conducted at other public institutions (to total sterilisation) (%)------>183\n",
            "Sterilisation conducted at private institutions (to total sterilisation) (%)------>183\n",
            "Laparoscopic sterlisations (to total female sterilisations) (%)------>186\n",
            "Mini lap sterlisations (to total female sterilisations) (%)------>186\n",
            "Post partum sterilisations (to total female sterilisations) (%)------>186\n",
            "Laparoscopic sterlisations at public institutions (to total laparoscopic sterilisations) (%)------>907\n",
            "Laparoscopic sterlisations at public institutions (to total mini lap sterilisations) (%)------>663\n",
            "Post partum sterlisations at public institutions (to total post partum sterilisation) (%)------>636\n",
            "Death cases following sterilisation------>727\n",
            "Intrauterine contraceptive device ( iucd ) insertions done at public facilities------>88\n",
            "Intrauterine contraceptive device ( iucd )insertions done at private facilities------>1467\n",
            "Total intrauterine contraceptive device ( iucd ) insertions done------>88\n",
            "Post partum intrauterine contraceptive device ( iucd ) insertions done in public facilities------>1462\n",
            "Post partum intrauterine contraceptive device ( iucd ) insertions in public facilities (to total iucd insertions in public facilities) (%)------>90\n",
            "Post partum intrauterine contraceptive device ( iucd ) insertions in public facilities (to total institutional deliveries in public facilities) (%)------>89\n",
            "Intrauterine contraceptive device ( iucd ) insertions in public and private facilities (to all family planning methods (iucd and permanent methods)) (%)------>90\n",
            "Oral pills distributed------>95\n",
            "Condom pieces distributed------>92\n",
            "Centchroman pills distributed------>595\n",
            "Newborns given birth dose of oral polio vaccine at birth (to reported live births) (%)------>89\n",
            "Newborns given bacillus calmettea guerin at birth (to reported live births) (%)------>89\n",
            "Fully immunized children in the age group of 9 to 11 months------>88\n",
            "Immunization dropout between bacillus calmettea guerin and measles vaccine (%)------>90\n",
            "Children given vitamin-a dose 1 (to reported live births) (%)------>89\n",
            "Children given vitamin-a dose 9 (to children given vitamin-a dose 1) (%)------>103\n",
            "Cases of other complications due to adverse events following immunization------>380\n",
            "Immunisation sessions held (to immunisation sessions planned) (%)------>95\n",
            "Immunisation sessions where  accredited social health activist ( asha ) were present (to immunisation sessions planned) (%)------>95\n",
            "Children with diphtheria in the age group of 0 to 5 years (%)------>140\n",
            "Children with pertusis in the age group of 0 to 5 years (%)------>140\n",
            "Children with neonatorum in the age group of 0 to 5 years (%) ------>140\n",
            "Children with tetanus other than neonatorum in the age group of 0 to 5 years (%)------>140\n",
            "Children with polio in the age group of 0 to 5 years (%)------>140\n",
            "Children with measles in the age group of 0 to 5 years (%)------>140\n",
            "Children with diarrhea and dehydration in the age group of 0 to 5 years (%)------>140\n",
            "Children with malaria in the age group of 0 to 5 years (%)------>140\n",
            "Adult female in-patients (to total adult inpatients) (%)------>115\n",
            "Children in-patients (to total in-patients) (%)------>113\n",
            "Female in-patients deaths (to total inpatient deaths) (%)------>215\n",
            "Number of in-patient department ( ipd ) deaths (to total patients in ipd) (%)------>113\n",
            "Patients in in-patients department ( ipd )------>113\n",
            "Patients in out-patients department ( opd )------>100\n",
            "Patients in in-patients department (to number of patients in opd) (%)------>101\n",
            "Major operations conducted------>130\n",
            "Minor operations conducted------>113\n",
            "Major operations conducted (to total operations conducted) (%)------>132\n",
            "Hysterectomy surgeries performed------>1555\n",
            "Hysterectomy surgeries performed (to major operations conducted) (%)------>264\n",
            "Patients given  ayurveda, yoga and naturopathy, unani, siddha, and homoeopathy ( ayush ) treatment in out-patient department------>187\n",
            "Patients given  ayurveda, yoga and naturopathy, unani, siddha, and homoeopathy ( ayush ) treatment in out-patient department (to patients in out-patient department) (%)------>101\n",
            "Patients received dental procedure in out-patient department------>165\n",
            "Patients in out-patient department with dental procedure (to patients in out-patient department) (%)------>101\n",
            "Adolescents counselled------>224\n",
            "Cases having hb less than 7gm/dl (to number of haemoglobin (hb) tests conducted) (%)------>127\n",
            "Male hiv positive cases (to number of hiv tests conducted on males) (%)------>131\n",
            "Female hiv positive cases (to number of hiv tests conducted on females) (%) ------>127\n",
            "Total hiv positive cases (to the number of hiv tests conducted ) (%)------>124\n",
            "Blood smears tested positive for plasmodium vivax (to total blood smears examined for malaria) (%)------>132\n",
            "Blood smears tested positive for plasmodium falciparum (to total blood smears examined for malaria) (%)------>132\n"
          ]
        }
      ]
    },
    {
      "cell_type": "markdown",
      "source": [
        "# **DUPLICATES**"
      ],
      "metadata": {
        "id": "pzgTok1c7E9J"
      }
    },
    {
      "cell_type": "code",
      "source": [
        "duplicate = df[df.duplicated()]"
      ],
      "metadata": {
        "id": "6cGIk0CZ4lCY"
      },
      "execution_count": null,
      "outputs": []
    },
    {
      "cell_type": "code",
      "source": [
        "duplicate"
      ],
      "metadata": {
        "colab": {
          "base_uri": "https://localhost:8080/",
          "height": 376
        },
        "id": "ZDg7GvK86zDQ",
        "outputId": "6eff4051-d6e5-4f51-8e0c-5d9a564536f8"
      },
      "execution_count": null,
      "outputs": [
        {
          "output_type": "execute_result",
          "data": {
            "text/plain": [
              "Empty DataFrame\n",
              "Columns: [Rowid, Country, State lgd code, State, District lgd code, District, Yearcode, Year, Registrations for  ante natal care ( anc ) in the first trimester (to total anc registrations) (%), Janani suraksha yojana ( jsy ) registrations( to total anc registrations) (%), Home deliveries, Home deliveries attended by doctor or nurse or auxiliary nurse midwife ( anm )s trained as sba, Home deliveries attended by traditional birth attendants ( tba ) or dai non-trained as skill birth attendants ( sba ), Home deliveries attended by skilled birth attendants ( sba ) (to total reported home deliveries) (%), Janani suraksha yojana ( jsy ) incentives paid for home deliveries,  janani suraksha yojana ( jsy ) incentives paid for home deliveries (to total reported home deliveries) (%), Deliveries conducted at public institutions, Institutional deliveries, Institutional deliveries (to total anc registrations) (%), Total deliveries recorded, Institutional deliveries (to total reported deliveries) (%), Safe deliveries (to total reported deliveries) (%), Home deliveries (to total reported deliveries) (%), Caesarean (c-section) deliveries conducted at public facilities, Caesarean (c-section) deliveries conducted at private facilities, C-section deliveries to reported institutional deliveries (%), C-section deliveries conducted at public facilities to reported institutional deliveries (%), C-section deliveries conducted at private facilities (to reported institutional deliveries) (%), Deliveries conducted at public facilities (to reported institutional deliveries) (%), Mothers who were paid janani suraksha yojana ( jsy ) incentives for delivery at public institution (to total public deliveries) (%), Accredited social health activist ( asha ) workers who were paid janani suraksha yojana ( jsy ) incentives for delivery at public institution (to total public deliveries) (%), Deliveries conducted at private institutions (to reported institutional deliveries) (%), Reported live births, Total reported live births (to total reported deliveries) (%), Reported still births, Reported live births (to reported births) (%), Newborns weighed at birth, Newborns weighed at birth (to reported live births) (%), Newborns having weight less than 2.5 kg, Newborns having weight less than 2.5 kg (to newborns weighed at birth) (%), New borns breastfed within 1 hour, New borns breastfed within 1 hour (to total live births) (%), New borns visited within 24 hrs of being delivered at home, Newborns visited within 24 hours of being delivered at home (to total reported home deliveries) (%), Sex ratio at birth, Complicated pregnancies treated with iv antihypertensive or magsulph injection (%), Complicated pregnancies treated with iv antihypertensive/magsulph injection (%), Post natal care ( pnc ) maternal complicates (to total deliveries) (%), Abortions reported, Medical termination of pregnancies ( mtps ) at public institutions, Medical termination of pregnancies conducted at public institutions (to total abortions) (%), Medical termination of pregnancies ( mtps ) up to 12 weeks of pregnancy (to total mtps conducted at public institutions) (%), Medical termination of pregnancies ( mtps ) more than 12 weeks of pregnancy (to total mtps conducted at public institutions) (%), Medical termination of pregnancies ( mtps ) conducted at public institutions (to total mtps (private + public)) (%), Mtps conducted at private institutions (to total mtps (private + public)) (%), Total medical termination of pregnancies ( mpt ) conducted at public institutions (to total ante natal care registrations) (%), Wet mount tests conducted (to new rti or sti in females for which treatment was initiated) (%), Vasectomies conducted in public and private institutions, Tubectomies conducted in public and private institutions, Sterilisation conducted, Male sterilization (to total sterilisation) (%), Female sterilisations (to total sterilisation) (%), Sterilisation conducted at primary health centres ( phc ), Sterilisation conducted at community health centres ( chc ), Sterilisation conducted at sub-district hospital ( sdh )or district hospital ( dh ), Sterilisations conducted at other public institutions, Sterilisation conducted at private institutions, Sterilisation conducted at primary health centres ( phc )(to total sterilisation) (%), Sterilisation conducted at community health centres ( chc ) (to total sterilisation) (%), Sterilisation conducted at sub-district hospital( sdh ) or district hospital (dh ) (to total sterilisation) (%), Sterilisations conducted at other public institutions (to total sterilisation) (%), Sterilisation conducted at private institutions (to total sterilisation) (%), Laparoscopic sterlisations (to total female sterilisations) (%), Mini lap sterlisations (to total female sterilisations) (%), Post partum sterilisations (to total female sterilisations) (%), Laparoscopic sterlisations at public institutions (to total laparoscopic sterilisations) (%), Laparoscopic sterlisations at public institutions (to total mini lap sterilisations) (%), Post partum sterlisations at public institutions (to total post partum sterilisation) (%), Death cases following sterilisation, Intrauterine contraceptive device ( iucd ) insertions done at public facilities, Intrauterine contraceptive device ( iucd )insertions done at private facilities, Total intrauterine contraceptive device ( iucd ) insertions done, Post partum intrauterine contraceptive device ( iucd ) insertions done in public facilities, Post partum intrauterine contraceptive device ( iucd ) insertions in public facilities (to total iucd insertions in public facilities) (%), Post partum intrauterine contraceptive device ( iucd ) insertions in public facilities (to total institutional deliveries in public facilities) (%), Intrauterine contraceptive device ( iucd ) insertions in public and private facilities (to all family planning methods (iucd and permanent methods)) (%), Oral pills distributed, Condom pieces distributed, Centchroman pills distributed, Newborns given birth dose of oral polio vaccine at birth (to reported live births) (%), Newborns given bacillus calmettea guerin at birth (to reported live births) (%), Fully immunized children in the age group of 9 to 11 months, Immunization dropout between bacillus calmettea guerin and measles vaccine (%), Children given vitamin-a dose 1 (to reported live births) (%), Children given vitamin-a dose 9 (to children given vitamin-a dose 1) (%), Cases of other complications due to adverse events following immunization, Immunisation sessions held (to immunisation sessions planned) (%), Immunisation sessions where  accredited social health activist ( asha ) were present (to immunisation sessions planned) (%), Children with diphtheria in the age group of 0 to 5 years (%), Children with pertusis in the age group of 0 to 5 years (%), ...]\n",
              "Index: []\n",
              "\n",
              "[0 rows x 129 columns]"
            ],
            "text/html": [
              "\n",
              "  <div id=\"df-d3d2532f-825d-4e8b-b109-f7f3b899b318\" class=\"colab-df-container\">\n",
              "    <div>\n",
              "<style scoped>\n",
              "    .dataframe tbody tr th:only-of-type {\n",
              "        vertical-align: middle;\n",
              "    }\n",
              "\n",
              "    .dataframe tbody tr th {\n",
              "        vertical-align: top;\n",
              "    }\n",
              "\n",
              "    .dataframe thead th {\n",
              "        text-align: right;\n",
              "    }\n",
              "</style>\n",
              "<table border=\"1\" class=\"dataframe\">\n",
              "  <thead>\n",
              "    <tr style=\"text-align: right;\">\n",
              "      <th></th>\n",
              "      <th>Rowid</th>\n",
              "      <th>Country</th>\n",
              "      <th>State lgd code</th>\n",
              "      <th>State</th>\n",
              "      <th>District lgd code</th>\n",
              "      <th>District</th>\n",
              "      <th>Yearcode</th>\n",
              "      <th>Year</th>\n",
              "      <th>Registrations for  ante natal care ( anc ) in the first trimester (to total anc registrations) (%)</th>\n",
              "      <th>Janani suraksha yojana ( jsy ) registrations( to total anc registrations) (%)</th>\n",
              "      <th>...</th>\n",
              "      <th>Patients given  ayurveda, yoga and naturopathy, unani, siddha, and homoeopathy ( ayush ) treatment in out-patient department (to patients in out-patient department) (%)</th>\n",
              "      <th>Patients received dental procedure in out-patient department</th>\n",
              "      <th>Patients in out-patient department with dental procedure (to patients in out-patient department) (%)</th>\n",
              "      <th>Adolescents counselled</th>\n",
              "      <th>Cases having hb less than 7gm/dl (to number of haemoglobin (hb) tests conducted) (%)</th>\n",
              "      <th>Male hiv positive cases (to number of hiv tests conducted on males) (%)</th>\n",
              "      <th>Female hiv positive cases (to number of hiv tests conducted on females) (%)</th>\n",
              "      <th>Total hiv positive cases (to the number of hiv tests conducted ) (%)</th>\n",
              "      <th>Blood smears tested positive for plasmodium vivax (to total blood smears examined for malaria) (%)</th>\n",
              "      <th>Blood smears tested positive for plasmodium falciparum (to total blood smears examined for malaria) (%)</th>\n",
              "    </tr>\n",
              "  </thead>\n",
              "  <tbody>\n",
              "  </tbody>\n",
              "</table>\n",
              "<p>0 rows × 129 columns</p>\n",
              "</div>\n",
              "    <div class=\"colab-df-buttons\">\n",
              "\n",
              "  <div class=\"colab-df-container\">\n",
              "    <button class=\"colab-df-convert\" onclick=\"convertToInteractive('df-d3d2532f-825d-4e8b-b109-f7f3b899b318')\"\n",
              "            title=\"Convert this dataframe to an interactive table.\"\n",
              "            style=\"display:none;\">\n",
              "\n",
              "  <svg xmlns=\"http://www.w3.org/2000/svg\" height=\"24px\" viewBox=\"0 -960 960 960\">\n",
              "    <path d=\"M120-120v-720h720v720H120Zm60-500h600v-160H180v160Zm220 220h160v-160H400v160Zm0 220h160v-160H400v160ZM180-400h160v-160H180v160Zm440 0h160v-160H620v160ZM180-180h160v-160H180v160Zm440 0h160v-160H620v160Z\"/>\n",
              "  </svg>\n",
              "    </button>\n",
              "\n",
              "  <style>\n",
              "    .colab-df-container {\n",
              "      display:flex;\n",
              "      gap: 12px;\n",
              "    }\n",
              "\n",
              "    .colab-df-convert {\n",
              "      background-color: #E8F0FE;\n",
              "      border: none;\n",
              "      border-radius: 50%;\n",
              "      cursor: pointer;\n",
              "      display: none;\n",
              "      fill: #1967D2;\n",
              "      height: 32px;\n",
              "      padding: 0 0 0 0;\n",
              "      width: 32px;\n",
              "    }\n",
              "\n",
              "    .colab-df-convert:hover {\n",
              "      background-color: #E2EBFA;\n",
              "      box-shadow: 0px 1px 2px rgba(60, 64, 67, 0.3), 0px 1px 3px 1px rgba(60, 64, 67, 0.15);\n",
              "      fill: #174EA6;\n",
              "    }\n",
              "\n",
              "    .colab-df-buttons div {\n",
              "      margin-bottom: 4px;\n",
              "    }\n",
              "\n",
              "    [theme=dark] .colab-df-convert {\n",
              "      background-color: #3B4455;\n",
              "      fill: #D2E3FC;\n",
              "    }\n",
              "\n",
              "    [theme=dark] .colab-df-convert:hover {\n",
              "      background-color: #434B5C;\n",
              "      box-shadow: 0px 1px 3px 1px rgba(0, 0, 0, 0.15);\n",
              "      filter: drop-shadow(0px 1px 2px rgba(0, 0, 0, 0.3));\n",
              "      fill: #FFFFFF;\n",
              "    }\n",
              "  </style>\n",
              "\n",
              "    <script>\n",
              "      const buttonEl =\n",
              "        document.querySelector('#df-d3d2532f-825d-4e8b-b109-f7f3b899b318 button.colab-df-convert');\n",
              "      buttonEl.style.display =\n",
              "        google.colab.kernel.accessAllowed ? 'block' : 'none';\n",
              "\n",
              "      async function convertToInteractive(key) {\n",
              "        const element = document.querySelector('#df-d3d2532f-825d-4e8b-b109-f7f3b899b318');\n",
              "        const dataTable =\n",
              "          await google.colab.kernel.invokeFunction('convertToInteractive',\n",
              "                                                    [key], {});\n",
              "        if (!dataTable) return;\n",
              "\n",
              "        const docLinkHtml = 'Like what you see? Visit the ' +\n",
              "          '<a target=\"_blank\" href=https://colab.research.google.com/notebooks/data_table.ipynb>data table notebook</a>'\n",
              "          + ' to learn more about interactive tables.';\n",
              "        element.innerHTML = '';\n",
              "        dataTable['output_type'] = 'display_data';\n",
              "        await google.colab.output.renderOutput(dataTable, element);\n",
              "        const docLink = document.createElement('div');\n",
              "        docLink.innerHTML = docLinkHtml;\n",
              "        element.appendChild(docLink);\n",
              "      }\n",
              "    </script>\n",
              "  </div>\n",
              "\n",
              "\n",
              "  <div id=\"id_a3a5d33a-05e8-484c-b168-9b4c823759dd\">\n",
              "    <style>\n",
              "      .colab-df-generate {\n",
              "        background-color: #E8F0FE;\n",
              "        border: none;\n",
              "        border-radius: 50%;\n",
              "        cursor: pointer;\n",
              "        display: none;\n",
              "        fill: #1967D2;\n",
              "        height: 32px;\n",
              "        padding: 0 0 0 0;\n",
              "        width: 32px;\n",
              "      }\n",
              "\n",
              "      .colab-df-generate:hover {\n",
              "        background-color: #E2EBFA;\n",
              "        box-shadow: 0px 1px 2px rgba(60, 64, 67, 0.3), 0px 1px 3px 1px rgba(60, 64, 67, 0.15);\n",
              "        fill: #174EA6;\n",
              "      }\n",
              "\n",
              "      [theme=dark] .colab-df-generate {\n",
              "        background-color: #3B4455;\n",
              "        fill: #D2E3FC;\n",
              "      }\n",
              "\n",
              "      [theme=dark] .colab-df-generate:hover {\n",
              "        background-color: #434B5C;\n",
              "        box-shadow: 0px 1px 3px 1px rgba(0, 0, 0, 0.15);\n",
              "        filter: drop-shadow(0px 1px 2px rgba(0, 0, 0, 0.3));\n",
              "        fill: #FFFFFF;\n",
              "      }\n",
              "    </style>\n",
              "    <button class=\"colab-df-generate\" onclick=\"generateWithVariable('duplicate')\"\n",
              "            title=\"Generate code using this dataframe.\"\n",
              "            style=\"display:none;\">\n",
              "\n",
              "  <svg xmlns=\"http://www.w3.org/2000/svg\" height=\"24px\"viewBox=\"0 0 24 24\"\n",
              "       width=\"24px\">\n",
              "    <path d=\"M7,19H8.4L18.45,9,17,7.55,7,17.6ZM5,21V16.75L18.45,3.32a2,2,0,0,1,2.83,0l1.4,1.43a1.91,1.91,0,0,1,.58,1.4,1.91,1.91,0,0,1-.58,1.4L9.25,21ZM18.45,9,17,7.55Zm-12,3A5.31,5.31,0,0,0,4.9,8.1,5.31,5.31,0,0,0,1,6.5,5.31,5.31,0,0,0,4.9,4.9,5.31,5.31,0,0,0,6.5,1,5.31,5.31,0,0,0,8.1,4.9,5.31,5.31,0,0,0,12,6.5,5.46,5.46,0,0,0,6.5,12Z\"/>\n",
              "  </svg>\n",
              "    </button>\n",
              "    <script>\n",
              "      (() => {\n",
              "      const buttonEl =\n",
              "        document.querySelector('#id_a3a5d33a-05e8-484c-b168-9b4c823759dd button.colab-df-generate');\n",
              "      buttonEl.style.display =\n",
              "        google.colab.kernel.accessAllowed ? 'block' : 'none';\n",
              "\n",
              "      buttonEl.onclick = () => {\n",
              "        google.colab.notebook.generateWithVariable('duplicate');\n",
              "      }\n",
              "      })();\n",
              "    </script>\n",
              "  </div>\n",
              "\n",
              "    </div>\n",
              "  </div>\n"
            ],
            "application/vnd.google.colaboratory.intrinsic+json": {
              "type": "dataframe",
              "variable_name": "duplicate"
            }
          },
          "metadata": {},
          "execution_count": 5
        }
      ]
    },
    {
      "cell_type": "code",
      "source": [
        "len(duplicate)"
      ],
      "metadata": {
        "colab": {
          "base_uri": "https://localhost:8080/"
        },
        "id": "7hpDVcsN603u",
        "outputId": "0ab95633-3b9e-4760-8aa3-b56b626aeb33"
      },
      "execution_count": null,
      "outputs": [
        {
          "output_type": "execute_result",
          "data": {
            "text/plain": [
              "0"
            ]
          },
          "metadata": {},
          "execution_count": 6
        }
      ]
    },
    {
      "cell_type": "code",
      "source": [
        "# DataFrame.drop_duplicates(subset=None, *, keep='first', inplace=False, ignore_index=False)[source]\n",
        "# To remove duplicate rows"
      ],
      "metadata": {
        "id": "kiPPIC9iKU2e"
      },
      "execution_count": null,
      "outputs": []
    },
    {
      "cell_type": "markdown",
      "source": [
        "# **PLOTTING DATA for Jammu and Kashmir**"
      ],
      "metadata": {
        "id": "T3HVFvtK9IUZ"
      }
    },
    {
      "cell_type": "code",
      "source": [
        "# for column in df.columns:\n",
        "#     print(f\"{column} ------> {df[column].dtype}\")"
      ],
      "metadata": {
        "id": "btuNSk3A7NeS"
      },
      "execution_count": null,
      "outputs": []
    },
    {
      "cell_type": "code",
      "source": [
        "df_jammu = df[df[\"State\"]==\"Jammu And Kashmir\"]"
      ],
      "metadata": {
        "id": "nl44P9Ba9OHs"
      },
      "execution_count": null,
      "outputs": []
    },
    {
      "cell_type": "code",
      "source": [
        "df_jammu.info()"
      ],
      "metadata": {
        "colab": {
          "base_uri": "https://localhost:8080/"
        },
        "id": "r4QEemSgBLf5",
        "outputId": "e4757655-e7f0-48e3-a341-56b10d3ccfdb"
      },
      "execution_count": null,
      "outputs": [
        {
          "output_type": "stream",
          "name": "stdout",
          "text": [
            "<class 'pandas.core.frame.DataFrame'>\n",
            "Index: 120 entries, 0 to 119\n",
            "Columns: 129 entries, Rowid to Blood smears tested positive for plasmodium falciparum (to total blood smears examined for malaria) (%)\n",
            "dtypes: float64(121), int64(4), object(4)\n",
            "memory usage: 121.9+ KB\n"
          ]
        }
      ]
    },
    {
      "cell_type": "code",
      "source": [
        "group_by = 'District'\n",
        "list_year = list(df_jammu[group_by].unique())\n",
        "print(list_year)"
      ],
      "metadata": {
        "colab": {
          "base_uri": "https://localhost:8080/"
        },
        "id": "59SE_QkFFJ_y",
        "outputId": "9909e44d-ad1a-468a-bc3f-fc01849d1a45"
      },
      "execution_count": null,
      "outputs": [
        {
          "output_type": "stream",
          "name": "stdout",
          "text": [
            "['Anantnag', 'Budgam', 'Baramulla', 'Doda', 'Jammu', 'Kathua', 'Kupwara', 'Poonch', 'Pulwama', 'Rajouri', 'Srinagar', 'Udhampur', 'Kishtwar', 'Ramban', 'Kulgam', 'Bandipora', 'Samba', 'Shopian', 'Ganderbal', 'Reasi']\n"
          ]
        }
      ]
    },
    {
      "cell_type": "code",
      "source": [
        "column_to_plot = \"Abortions reported\"\n",
        "list_column_sum = list(df_jammu.groupby(group_by)[column_to_plot].sum())\n",
        "print(list_column_sum)"
      ],
      "metadata": {
        "colab": {
          "base_uri": "https://localhost:8080/"
        },
        "id": "5DTpp8WYFUUF",
        "outputId": "eb6d8553-3cb9-4301-84c5-563e99f98b23"
      },
      "execution_count": null,
      "outputs": [
        {
          "output_type": "stream",
          "name": "stdout",
          "text": [
            "[12144.0, 1288.0, 6913.0, 2445.0, 781.0, 908.0, 12961.0, 4606.0, 1375.0, 1130.0, 4609.0, 2357.0, 3967.0, 2632.0, 1462.0, 1091.0, 1337.0, 960.0, 6354.0, 2570.0]\n"
          ]
        }
      ]
    },
    {
      "cell_type": "code",
      "source": [
        "plt.figure(figsize=(18, 5))\n",
        "plt.plot(list_year, list_column_sum)\n",
        "plt.xlabel(\"Year\")\n",
        "plt.grid(True)\n",
        "plt.title(f\"{column_to_plot} vs. Year\")\n",
        "plt.show()"
      ],
      "metadata": {
        "colab": {
          "base_uri": "https://localhost:8080/",
          "height": 373
        },
        "id": "_01XshoFBNq1",
        "outputId": "4c0cdb5d-66ef-44eb-d2a7-9eab4ab6a3ad"
      },
      "execution_count": null,
      "outputs": [
        {
          "output_type": "display_data",
          "data": {
            "text/plain": [
              "<Figure size 1800x500 with 1 Axes>"
            ],
            "image/png": "[encoded data removed]"
          },
          "metadata": {}
        }
      ]
    },
    {
      "cell_type": "code",
      "source": [],
      "metadata": {
        "id": "rV0DD0nTCyHo"
      },
      "execution_count": null,
      "outputs": []
    }
  ]
}